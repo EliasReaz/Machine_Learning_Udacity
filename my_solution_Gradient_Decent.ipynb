{
 "cells": [
  {
   "cell_type": "markdown",
   "metadata": {},
   "source": [
    "### Batch gradient decent for linear regression\n",
    "\n",
    "- June 7, 2020"
   ]
  },
  {
   "cell_type": "code",
   "execution_count": 1,
   "metadata": {},
   "outputs": [],
   "source": [
    "import numpy as np\n",
    "import matplotlib.pyplot as plt"
   ]
  },
  {
   "cell_type": "markdown",
   "metadata": {},
   "source": [
    "### Load data file -- the file contains 100 rows with 2 columns"
   ]
  },
  {
   "cell_type": "code",
   "execution_count": 2,
   "metadata": {},
   "outputs": [],
   "source": [
    "# read the whole file as a list of stings\n",
    "\n",
    "data = []  # a placeholder of data\n",
    "\n",
    "def read_data(file_name):\n",
    "    '''\n",
    "    file_name: a string contains the name of the file, 'batch_gr_decent_data.txt'\n",
    "    \n",
    "    fill the data list with points\n",
    "    '''\n",
    "    with open(file_name) as file:\n",
    "        str_line = file.readlines()\n",
    "        \n",
    "    \n",
    "    for i in range(len(str_line)):\n",
    "        single_line_list = str_line[i].rstrip(\"\\n\").split(\",\") # strip \"\\n\" and split \n",
    "        list_data = [float(f) for f in single_line_list]\n",
    "        data.append(list_data)"
   ]
  },
  {
   "cell_type": "code",
   "execution_count": 3,
   "metadata": {},
   "outputs": [],
   "source": [
    "read_data('batch_gr_decent_data.txt')"
   ]
  },
  {
   "cell_type": "code",
   "execution_count": 4,
   "metadata": {},
   "outputs": [
    {
     "name": "stdout",
     "output_type": "stream",
     "text": [
      "(100, 2)\n"
     ]
    }
   ],
   "source": [
    "data = np.array(data)\n",
    "print(data.shape)"
   ]
  },
  {
   "cell_type": "code",
   "execution_count": 5,
   "metadata": {},
   "outputs": [
    {
     "data": {
      "text/plain": [
       "array([[-7.24070e-01,  2.23863e+00],\n",
       "       [-2.40724e+00, -1.56000e-03],\n",
       "       [ 2.64837e+00,  3.01665e+00]])"
      ]
     },
     "execution_count": 5,
     "metadata": {},
     "output_type": "execute_result"
    }
   ],
   "source": [
    "data[:3,:3]"
   ]
  },
  {
   "cell_type": "code",
   "execution_count": 6,
   "metadata": {},
   "outputs": [
    {
     "data": {
      "text/plain": [
       "array([-0.72407,  2.23863])"
      ]
     },
     "execution_count": 6,
     "metadata": {},
     "output_type": "execute_result"
    }
   ],
   "source": [
    "data[0]"
   ]
  },
  {
   "cell_type": "markdown",
   "metadata": {},
   "source": [
    "### Plot a scatter plot of data"
   ]
  },
  {
   "cell_type": "code",
   "execution_count": 7,
   "metadata": {},
   "outputs": [
    {
     "data": {
      "image/png": "[encoded data removed]",
      "text/plain": [
       "<Figure size 432x288 with 1 Axes>"
      ]
     },
     "metadata": {
      "needs_background": "light"
     },
     "output_type": "display_data"
    }
   ],
   "source": [
    "x = data[:,0]\n",
    "y = data[:,1]\n",
    "\n",
    "plt.plot(x, y, 'o')\n",
    "plt.grid(axis='x')\n",
    "plt.xlabel(\"x\")\n",
    "plt.ylabel(\"y\")\n",
    "plt.show()"
   ]
  },
  {
   "cell_type": "markdown",
   "metadata": {},
   "source": [
    "### gradient decent\n",
    "- Equation of the line: $y^\\prime = w1*x + w2$, $y^\\prime$ is the estimated point, $y$ is real point\n",
    "\n",
    "\n",
    "- E = $\\frac{1}{2}\\sum_{i=1}^{m}(y_i - y^\\prime_i)^2 = \\frac{1}{2}\\sum_{i=1}^{m}(y_i - (w1*x_i + w2))^2$\n",
    "\n",
    "\n",
    "- $\\frac{\\partial E}{\\partial w1} = \\sum_{i=1}^{m}(y_i - (w1*x_i + w2))(-x_i)$\n",
    "\n",
    "\n",
    "- $\\frac{\\partial E}{\\partial w1} = \\sum_{i=1}^m(y_i- y^\\prime_i)(-x_i) = \\sum_{i=1}^m(y^\\prime_i - y_i)$\n",
    "\n",
    "\n",
    "- $\\frac{\\partial E}{\\partial w2} = \\sum_{i=1}^m(y- y_i)(-1) = \\sum_{i=1}^m(y^\\prime_i- y_i)$\n",
    "\n",
    "\n",
    "- $w1 = w1 - \\alpha \\frac{\\partial E}{\\partial w1}$\n",
    "\n",
    "\n",
    "- $w2 = w2 - \\alpha \\frac{\\partial E}{\\partial w2}$"
   ]
  },
  {
   "cell_type": "markdown",
   "metadata": {},
   "source": [
    "### initialize slope, w1 and intercept, w2"
   ]
  },
  {
   "cell_type": "code",
   "execution_count": 8,
   "metadata": {},
   "outputs": [],
   "source": [
    "w1 = 0\n",
    "w2 = 0"
   ]
  },
  {
   "cell_type": "code",
   "execution_count": 9,
   "metadata": {},
   "outputs": [],
   "source": [
    "y_hat = w1*x + w2"
   ]
  },
  {
   "cell_type": "code",
   "execution_count": 10,
   "metadata": {},
   "outputs": [
    {
     "data": {
      "image/png": "[encoded data removed]",
      "text/plain": [
       "<Figure size 432x288 with 1 Axes>"
      ]
     },
     "metadata": {
      "needs_background": "light"
     },
     "output_type": "display_data"
    }
   ],
   "source": [
    "%matplotlib inline\n",
    "\n",
    "plt.plot(x, y, 'o')\n",
    "plt.plot(x,y_hat,'-')\n",
    "plt.grid(axis='x')\n",
    "plt.xlabel(\"x\")\n",
    "plt.ylabel(\"y\")\n",
    "plt.show()"
   ]
  },
  {
   "cell_type": "code",
   "execution_count": 16,
   "metadata": {},
   "outputs": [],
   "source": [
    "def new_estimate(w1, w2):\n",
    "    y_hat = np.dot(w1, x) + w2\n",
    "    return y_hat\n",
    "\n",
    "def estimateGradient(y, y_hat):\n",
    "    return (y - y_hat)  "
   ]
  },
  {
   "cell_type": "code",
   "execution_count": 17,
   "metadata": {},
   "outputs": [
    {
     "data": {
      "text/plain": [
       "(2.23863, 0.0)"
      ]
     },
     "execution_count": 17,
     "metadata": {},
     "output_type": "execute_result"
    }
   ],
   "source": [
    "y[0], y_hat[0]"
   ]
  },
  {
   "cell_type": "code",
   "execution_count": 18,
   "metadata": {},
   "outputs": [],
   "source": [
    "# estimateGradient(y, y_hat)"
   ]
  },
  {
   "cell_type": "code",
   "execution_count": 19,
   "metadata": {},
   "outputs": [],
   "source": [
    "w1 = 1\n",
    "w2 = 1\n",
    "error = 100\n",
    "err = []\n",
    "alpha = 0.001\n",
    "for i in range(100):\n",
    "#     print(\"error\", error)\n",
    "    y_hat = new_estimate(w1, w2)\n",
    "    w1 = w1 + alpha*np.sum((estimateGradient(y, y_hat)*x))\n",
    "#     print(\"w1: \", w1)\n",
    "    w2 = w2 + alpha*np.sum(estimateGradient(y, y_hat))\n",
    "#     print(\"w2: \", w2)\n",
    "    error = 0.5*np.sum((y - y_hat)**2)\n",
    "    err.append(error)"
   ]
  },
  {
   "cell_type": "code",
   "execution_count": 20,
   "metadata": {},
   "outputs": [
    {
     "data": {
      "image/png": "[encoded data removed]",
      "text/plain": [
       "<Figure size 432x288 with 1 Axes>"
      ]
     },
     "metadata": {
      "needs_background": "light"
     },
     "output_type": "display_data"
    }
   ],
   "source": [
    "plt.plot(err, '-')\n",
    "plt.grid()\n",
    "plt.ylabel('Error')\n",
    "plt.xlabel('Iterations')\n",
    "plt.show()"
   ]
  },
  {
   "cell_type": "code",
   "execution_count": 21,
   "metadata": {},
   "outputs": [
    {
     "data": {
      "text/plain": [
       "0.4689883371596802"
      ]
     },
     "execution_count": 21,
     "metadata": {},
     "output_type": "execute_result"
    }
   ],
   "source": [
    "w1"
   ]
  },
  {
   "cell_type": "code",
   "execution_count": 22,
   "metadata": {},
   "outputs": [
    {
     "data": {
      "text/plain": [
       "1.969790436928809"
      ]
     },
     "execution_count": 22,
     "metadata": {},
     "output_type": "execute_result"
    }
   ],
   "source": [
    "w2"
   ]
  },
  {
   "cell_type": "code",
   "execution_count": 23,
   "metadata": {},
   "outputs": [],
   "source": [
    "y_hat = new_estimate(w1, w2)"
   ]
  },
  {
   "cell_type": "code",
   "execution_count": 24,
   "metadata": {},
   "outputs": [
    {
     "data": {
      "image/png": "[encoded data removed]",
      "text/plain": [
       "<Figure size 432x288 with 1 Axes>"
      ]
     },
     "metadata": {
      "needs_background": "light"
     },
     "output_type": "display_data"
    }
   ],
   "source": [
    "plt.plot(x, y, 'o')\n",
    "plt.plot(x,y_hat,'-')\n",
    "plt.grid(axis='x')\n",
    "plt.xlabel(\"x\")\n",
    "plt.ylabel(\"y\")\n",
    "plt.show()"
   ]
  },
  {
   "cell_type": "code",
   "execution_count": null,
   "metadata": {},
   "outputs": [],
   "source": []
  },
  {
   "cell_type": "code",
   "execution_count": null,
   "metadata": {},
   "outputs": [],
   "source": []
  }
 ],
 "metadata": {
  "kernelspec": {
   "display_name": "Python 3",
   "language": "python",
   "name": "python3"
  },
  "language_info": {
   "codemirror_mode": {
    "name": "ipython",
    "version": 3
   },
   "file_extension": ".py",
   "mimetype": "text/x-python",
   "name": "python",
   "nbconvert_exporter": "python",
   "pygments_lexer": "ipython3",
   "version": "3.7.1"
  }
 },
 "nbformat": 4,
 "nbformat_minor": 2
}
